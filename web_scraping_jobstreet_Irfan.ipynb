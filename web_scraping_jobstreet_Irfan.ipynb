{
  "cells": [
    {
      "cell_type": "markdown",
      "metadata": {
        "id": "eyfw1TnHUyBo"
      },
      "source": [
        "# Import Libraries"
      ]
    },
    {
      "cell_type": "code",
      "execution_count": 92,
      "metadata": {
        "id": "GCpX9dRURK76"
      },
      "outputs": [],
      "source": [
        "import requests\n",
        "from bs4 import BeautifulSoup\n",
        "import pandas as pd\n",
        "import re\n",
        "\n",
        "import time\n",
        "from datetime import datetime, timedelta, timezone\n",
        "import pytz\n",
        "\n",
        "import matplotlib.pyplot as plt\n",
        "import seaborn as sns"
      ]
    },
    {
      "cell_type": "markdown",
      "metadata": {
        "id": "rzm_kOr8U0LF"
      },
      "source": [
        "# Scraping Data from Jobstreet"
      ]
    },
    {
      "cell_type": "code",
      "execution_count": 93,
      "metadata": {
        "colab": {
          "base_uri": "https://localhost:8080/",
          "height": 597
        },
        "id": "Zl8aZDCjq9Gp",
        "outputId": "94941c30-5b9e-465c-b4d5-32b00480c047"
      },
      "outputs": [
        {
          "data": {
            "text/html": [
              "<div>\n",
              "<style scoped>\n",
              "    .dataframe tbody tr th:only-of-type {\n",
              "        vertical-align: middle;\n",
              "    }\n",
              "\n",
              "    .dataframe tbody tr th {\n",
              "        vertical-align: top;\n",
              "    }\n",
              "\n",
              "    .dataframe thead th {\n",
              "        text-align: right;\n",
              "    }\n",
              "</style>\n",
              "<table border=\"1\" class=\"dataframe\">\n",
              "  <thead>\n",
              "    <tr style=\"text-align: right;\">\n",
              "      <th></th>\n",
              "      <th>Job Title</th>\n",
              "      <th>Company</th>\n",
              "      <th>Job Description</th>\n",
              "      <th>Job Type</th>\n",
              "    </tr>\n",
              "  </thead>\n",
              "  <tbody>\n",
              "    <tr>\n",
              "      <th>0</th>\n",
              "      <td>Data Engineer</td>\n",
              "      <td>PT I Like Gym Indonesia</td>\n",
              "      <td>Job Descriptions:Perform data exploration, dat...</td>\n",
              "      <td>Penuh waktu</td>\n",
              "    </tr>\n",
              "    <tr>\n",
              "      <th>1</th>\n",
              "      <td>Data Science Internship</td>\n",
              "      <td>PT. Cakra Radha Mustika</td>\n",
              "      <td>Requirements :Min. Bachelor’s Degree in Statis...</td>\n",
              "      <td>Kasual</td>\n",
              "    </tr>\n",
              "    <tr>\n",
              "      <th>2</th>\n",
              "      <td>Internship Data Quality and Service Desk</td>\n",
              "      <td>PT Crif Lembaga Informasi Keuangan</td>\n",
              "      <td>Job roleThe Data Quality Intern will responsib...</td>\n",
              "      <td>Kontrak</td>\n",
              "    </tr>\n",
              "    <tr>\n",
              "      <th>3</th>\n",
              "      <td>Data Analyst</td>\n",
              "      <td>PT HEJAZ FINANCIAL SERVICES</td>\n",
              "      <td>The Data Analyst will work under the supervisi...</td>\n",
              "      <td>Penuh waktu</td>\n",
              "    </tr>\n",
              "    <tr>\n",
              "      <th>4</th>\n",
              "      <td>Corporate Data Scientist Head</td>\n",
              "      <td>PT Wahana Ottomitra Multiartha (WOM Finance), Tbk</td>\n",
              "      <td>Responsibilities :Bertanggung jawab dalam peng...</td>\n",
              "      <td>Penuh waktu</td>\n",
              "    </tr>\n",
              "    <tr>\n",
              "      <th>...</th>\n",
              "      <td>...</td>\n",
              "      <td>...</td>\n",
              "      <td>...</td>\n",
              "      <td>...</td>\n",
              "    </tr>\n",
              "    <tr>\n",
              "      <th>187</th>\n",
              "      <td>Regional Data Analyst &amp; Monitoring</td>\n",
              "      <td>Erajaya Group</td>\n",
              "      <td>Job Descriptions :Coordinating target setting ...</td>\n",
              "      <td>Penuh waktu</td>\n",
              "    </tr>\n",
              "    <tr>\n",
              "      <th>188</th>\n",
              "      <td>Data Engineer Staff</td>\n",
              "      <td>PT NTT Data Indonesia</td>\n",
              "      <td>Job Responsibilities/Descriptions :Analyze and...</td>\n",
              "      <td>Kontrak</td>\n",
              "    </tr>\n",
              "    <tr>\n",
              "      <th>189</th>\n",
              "      <td>Senior Data Engineer (Mandiri International Te...</td>\n",
              "      <td>Company Confidential</td>\n",
              "      <td>Job description &amp; requirements🙌🏻About UsPT. Ma...</td>\n",
              "      <td>Kontrak</td>\n",
              "    </tr>\n",
              "    <tr>\n",
              "      <th>190</th>\n",
              "      <td>Financial Products Analyst</td>\n",
              "      <td>WALLSTREETDOCS BANDUNG</td>\n",
              "      <td>We are seeking strong analytic person who is f...</td>\n",
              "      <td>Penuh waktu</td>\n",
              "    </tr>\n",
              "    <tr>\n",
              "      <th>191</th>\n",
              "      <td>BUSINESS INTELLIGENCE</td>\n",
              "      <td>Wilmar Group</td>\n",
              "      <td>Menerapkan system (SOP, ePMS\\n dan SAP) di sel...</td>\n",
              "      <td>Penuh waktu</td>\n",
              "    </tr>\n",
              "  </tbody>\n",
              "</table>\n",
              "<p>192 rows × 4 columns</p>\n",
              "</div>"
            ],
            "text/plain": [
              "                                             Job Title  \\\n",
              "0                                        Data Engineer   \n",
              "1                              Data Science Internship   \n",
              "2             Internship Data Quality and Service Desk   \n",
              "3                                         Data Analyst   \n",
              "4                        Corporate Data Scientist Head   \n",
              "..                                                 ...   \n",
              "187                 Regional Data Analyst & Monitoring   \n",
              "188                                Data Engineer Staff   \n",
              "189  Senior Data Engineer (Mandiri International Te...   \n",
              "190                         Financial Products Analyst   \n",
              "191                              BUSINESS INTELLIGENCE   \n",
              "\n",
              "                                               Company  \\\n",
              "0                              PT I Like Gym Indonesia   \n",
              "1                              PT. Cakra Radha Mustika   \n",
              "2                   PT Crif Lembaga Informasi Keuangan   \n",
              "3                          PT HEJAZ FINANCIAL SERVICES   \n",
              "4    PT Wahana Ottomitra Multiartha (WOM Finance), Tbk   \n",
              "..                                                 ...   \n",
              "187                                      Erajaya Group   \n",
              "188                              PT NTT Data Indonesia   \n",
              "189                               Company Confidential   \n",
              "190                             WALLSTREETDOCS BANDUNG   \n",
              "191                                       Wilmar Group   \n",
              "\n",
              "                                       Job Description     Job Type  \n",
              "0    Job Descriptions:Perform data exploration, dat...  Penuh waktu  \n",
              "1    Requirements :Min. Bachelor’s Degree in Statis...       Kasual  \n",
              "2    Job roleThe Data Quality Intern will responsib...      Kontrak  \n",
              "3    The Data Analyst will work under the supervisi...  Penuh waktu  \n",
              "4    Responsibilities :Bertanggung jawab dalam peng...  Penuh waktu  \n",
              "..                                                 ...          ...  \n",
              "187  Job Descriptions :Coordinating target setting ...  Penuh waktu  \n",
              "188  Job Responsibilities/Descriptions :Analyze and...      Kontrak  \n",
              "189  Job description & requirements🙌🏻About UsPT. Ma...      Kontrak  \n",
              "190  We are seeking strong analytic person who is f...  Penuh waktu  \n",
              "191  Menerapkan system (SOP, ePMS\\n dan SAP) di sel...  Penuh waktu  \n",
              "\n",
              "[192 rows x 4 columns]"
            ]
          },
          "execution_count": 93,
          "metadata": {},
          "output_type": "execute_result"
        }
      ],
      "source": [
        "def scraping_data(key, num_pages):\n",
        "    base_url = 'https://www.jobstreet.co.id'\n",
        "    # list untuk menyimpan data\n",
        "    data = []\n",
        "\n",
        "    # Looping untuk setiap halaman\n",
        "    for page in range(1, num_pages + 1):\n",
        "\n",
        "        url = f'{base_url}/id/{key}?page={page}'\n",
        "\n",
        "        response = requests.get(url)\n",
        "        response.raise_for_status()\n",
        "\n",
        "        soup = BeautifulSoup(response.text, 'html.parser')\n",
        "        #a_tags = soup.find_all('a', attrs={'data-automation': 'job-list-view-job-link'})\n",
        "        a_tags= soup.select('a[data-automation=\"job-list-view-job-link\"]') #menggunakan CSS selector\n",
        "        href_list = [a.get('href') for a in a_tags]\n",
        "\n",
        "        for href_value in href_list:\n",
        "            full_url = base_url + href_value\n",
        "            job_response = requests.get(full_url)\n",
        "\n",
        "            job_soup = BeautifulSoup(job_response.text, 'html.parser')\n",
        "\n",
        "            job_title = job_soup.find('h1').text.strip()\n",
        "            company_name = job_soup.find('span', class_='lnocuod', \n",
        "                                         attrs={'data-automation': 'advertiser-name'}).text.strip()\n",
        "            job_description = job_soup.find('div', {'data-automation': 'jobAdDetails'}).get_text(strip=True)\n",
        "            job_type = job_soup.find_all('span', class_='_1wkzzau0 a1msqi4y a1msqir')[2].text.strip()\n",
        "\n",
        "            data.append({'Job Title': job_title, 'Company': company_name,\n",
        "                         'Job Description': job_description, 'Job Type': job_type})\n",
        "\n",
        "    df = pd.DataFrame(data)\n",
        "    return df\n",
        "\n",
        "df = scraping_data('data-science-jobs', num_pages=6)\n",
        "df"
      ]
    },
    {
      "cell_type": "code",
      "execution_count": 94,
      "metadata": {
        "colab": {
          "base_uri": "https://localhost:8080/",
          "height": 615
        },
        "id": "KZgW8cMurLhv",
        "outputId": "4cc86c0e-f19e-4352-e27a-a82e6db181c4"
      },
      "outputs": [
        {
          "data": {
            "text/html": [
              "<div>\n",
              "<style scoped>\n",
              "    .dataframe tbody tr th:only-of-type {\n",
              "        vertical-align: middle;\n",
              "    }\n",
              "\n",
              "    .dataframe tbody tr th {\n",
              "        vertical-align: top;\n",
              "    }\n",
              "\n",
              "    .dataframe thead th {\n",
              "        text-align: right;\n",
              "    }\n",
              "</style>\n",
              "<table border=\"1\" class=\"dataframe\">\n",
              "  <thead>\n",
              "    <tr style=\"text-align: right;\">\n",
              "      <th></th>\n",
              "      <th>Job Title</th>\n",
              "      <th>Company</th>\n",
              "      <th>Job Description</th>\n",
              "      <th>Job Type</th>\n",
              "      <th>Skills</th>\n",
              "    </tr>\n",
              "  </thead>\n",
              "  <tbody>\n",
              "    <tr>\n",
              "      <th>0</th>\n",
              "      <td>Data Engineer</td>\n",
              "      <td>PT I Like Gym Indonesia</td>\n",
              "      <td>Job Descriptions:Perform data exploration, dat...</td>\n",
              "      <td>Penuh waktu</td>\n",
              "      <td>[SQL, Python, Azure]</td>\n",
              "    </tr>\n",
              "    <tr>\n",
              "      <th>1</th>\n",
              "      <td>Data Science Internship</td>\n",
              "      <td>PT. Cakra Radha Mustika</td>\n",
              "      <td>Requirements :Min. Bachelor’s Degree in Statis...</td>\n",
              "      <td>Kasual</td>\n",
              "      <td>[SQL, R, Excel]</td>\n",
              "    </tr>\n",
              "    <tr>\n",
              "      <th>2</th>\n",
              "      <td>Internship Data Quality and Service Desk</td>\n",
              "      <td>PT Crif Lembaga Informasi Keuangan</td>\n",
              "      <td>Job roleThe Data Quality Intern will responsib...</td>\n",
              "      <td>Kontrak</td>\n",
              "      <td>[Unknown]</td>\n",
              "    </tr>\n",
              "    <tr>\n",
              "      <th>3</th>\n",
              "      <td>Data Analyst</td>\n",
              "      <td>PT HEJAZ FINANCIAL SERVICES</td>\n",
              "      <td>The Data Analyst will work under the supervisi...</td>\n",
              "      <td>Penuh waktu</td>\n",
              "      <td>[SQL, Python, R, Excel]</td>\n",
              "    </tr>\n",
              "    <tr>\n",
              "      <th>4</th>\n",
              "      <td>Corporate Data Scientist Head</td>\n",
              "      <td>PT Wahana Ottomitra Multiartha (WOM Finance), Tbk</td>\n",
              "      <td>Responsibilities :Bertanggung jawab dalam peng...</td>\n",
              "      <td>Penuh waktu</td>\n",
              "      <td>[R, MySQL, Machine Learning, Hadoop, spark, Hi...</td>\n",
              "    </tr>\n",
              "    <tr>\n",
              "      <th>...</th>\n",
              "      <td>...</td>\n",
              "      <td>...</td>\n",
              "      <td>...</td>\n",
              "      <td>...</td>\n",
              "      <td>...</td>\n",
              "    </tr>\n",
              "    <tr>\n",
              "      <th>187</th>\n",
              "      <td>Regional Data Analyst &amp; Monitoring</td>\n",
              "      <td>Erajaya Group</td>\n",
              "      <td>Job Descriptions :Coordinating target setting ...</td>\n",
              "      <td>Penuh waktu</td>\n",
              "      <td>[Unknown]</td>\n",
              "    </tr>\n",
              "    <tr>\n",
              "      <th>188</th>\n",
              "      <td>Data Engineer Staff</td>\n",
              "      <td>PT NTT Data Indonesia</td>\n",
              "      <td>Job Responsibilities/Descriptions :Analyze and...</td>\n",
              "      <td>Kontrak</td>\n",
              "      <td>[SQL, Python, Database]</td>\n",
              "    </tr>\n",
              "    <tr>\n",
              "      <th>189</th>\n",
              "      <td>Senior Data Engineer (Mandiri International Te...</td>\n",
              "      <td>Company Confidential</td>\n",
              "      <td>Job description &amp; requirements🙌🏻About UsPT. Ma...</td>\n",
              "      <td>Kontrak</td>\n",
              "      <td>[SQL, AWS, Big Data]</td>\n",
              "    </tr>\n",
              "    <tr>\n",
              "      <th>190</th>\n",
              "      <td>Financial Products Analyst</td>\n",
              "      <td>WALLSTREETDOCS BANDUNG</td>\n",
              "      <td>We are seeking strong analytic person who is f...</td>\n",
              "      <td>Penuh waktu</td>\n",
              "      <td>[Database]</td>\n",
              "    </tr>\n",
              "    <tr>\n",
              "      <th>191</th>\n",
              "      <td>BUSINESS INTELLIGENCE</td>\n",
              "      <td>Wilmar Group</td>\n",
              "      <td>Menerapkan system (SOP, ePMS\\n dan SAP) di sel...</td>\n",
              "      <td>Penuh waktu</td>\n",
              "      <td>[Unknown]</td>\n",
              "    </tr>\n",
              "  </tbody>\n",
              "</table>\n",
              "<p>192 rows × 5 columns</p>\n",
              "</div>"
            ],
            "text/plain": [
              "                                             Job Title  \\\n",
              "0                                        Data Engineer   \n",
              "1                              Data Science Internship   \n",
              "2             Internship Data Quality and Service Desk   \n",
              "3                                         Data Analyst   \n",
              "4                        Corporate Data Scientist Head   \n",
              "..                                                 ...   \n",
              "187                 Regional Data Analyst & Monitoring   \n",
              "188                                Data Engineer Staff   \n",
              "189  Senior Data Engineer (Mandiri International Te...   \n",
              "190                         Financial Products Analyst   \n",
              "191                              BUSINESS INTELLIGENCE   \n",
              "\n",
              "                                               Company  \\\n",
              "0                              PT I Like Gym Indonesia   \n",
              "1                              PT. Cakra Radha Mustika   \n",
              "2                   PT Crif Lembaga Informasi Keuangan   \n",
              "3                          PT HEJAZ FINANCIAL SERVICES   \n",
              "4    PT Wahana Ottomitra Multiartha (WOM Finance), Tbk   \n",
              "..                                                 ...   \n",
              "187                                      Erajaya Group   \n",
              "188                              PT NTT Data Indonesia   \n",
              "189                               Company Confidential   \n",
              "190                             WALLSTREETDOCS BANDUNG   \n",
              "191                                       Wilmar Group   \n",
              "\n",
              "                                       Job Description     Job Type  \\\n",
              "0    Job Descriptions:Perform data exploration, dat...  Penuh waktu   \n",
              "1    Requirements :Min. Bachelor’s Degree in Statis...       Kasual   \n",
              "2    Job roleThe Data Quality Intern will responsib...      Kontrak   \n",
              "3    The Data Analyst will work under the supervisi...  Penuh waktu   \n",
              "4    Responsibilities :Bertanggung jawab dalam peng...  Penuh waktu   \n",
              "..                                                 ...          ...   \n",
              "187  Job Descriptions :Coordinating target setting ...  Penuh waktu   \n",
              "188  Job Responsibilities/Descriptions :Analyze and...      Kontrak   \n",
              "189  Job description & requirements🙌🏻About UsPT. Ma...      Kontrak   \n",
              "190  We are seeking strong analytic person who is f...  Penuh waktu   \n",
              "191  Menerapkan system (SOP, ePMS\\n dan SAP) di sel...  Penuh waktu   \n",
              "\n",
              "                                                Skills  \n",
              "0                                 [SQL, Python, Azure]  \n",
              "1                                      [SQL, R, Excel]  \n",
              "2                                            [Unknown]  \n",
              "3                              [SQL, Python, R, Excel]  \n",
              "4    [R, MySQL, Machine Learning, Hadoop, spark, Hi...  \n",
              "..                                                 ...  \n",
              "187                                          [Unknown]  \n",
              "188                            [SQL, Python, Database]  \n",
              "189                               [SQL, AWS, Big Data]  \n",
              "190                                         [Database]  \n",
              "191                                          [Unknown]  \n",
              "\n",
              "[192 rows x 5 columns]"
            ]
          },
          "execution_count": 94,
          "metadata": {},
          "output_type": "execute_result"
        }
      ],
      "source": [
        "def check_skills(description, skills):\n",
        "    description_lower = description.lower()\n",
        "    found_skills = []\n",
        "\n",
        "    for skill in skills:\n",
        "        # Ganti 'Google Cloud Platform' dengan 'GCP'\n",
        "        skill_pattern = re.escape(skill.lower()).replace('google cloud platform', 'GCP')\n",
        "        pattern = r'\\b{}\\b'.format(skill_pattern)\n",
        "        if re.search(pattern, description_lower):\n",
        "            found_skills.append(skill)\n",
        "\n",
        "    return found_skills if found_skills else ['Unknown']\n",
        "\n",
        "def add_columns(df, skills, column_name):\n",
        "    df[column_name] = df['Job Description'].apply(lambda x: check_skills(x, skills))\n",
        "    return df\n",
        "\n",
        "# Keterampilan yang ingin diperiksa\n",
        "list_skills = ['SQL','Python','R','Javascript', 'C#','C++',\n",
        "               'MySQL','Postgres','Azure','Database','AWS','GCP','Machine Learning',\n",
        "               'OpenCV','tensorflow','Deep learning','scikit-learn','pandas',\n",
        "               'CI/CD','MLOps','WandB','Neptune','Kubernetes','docker',\n",
        "               'NoSQL','MongoDB','Hadoop','spark','Hive','MapReduce','kafka',\n",
        "               'Git','Airflow','talend','Big Data',\n",
        "               'Excel']\n",
        "\n",
        "\n",
        "add_columns(df, list_skills, column_name='Skills')"
      ]
    },
    {
      "cell_type": "code",
      "execution_count": 95,
      "metadata": {
        "colab": {
          "base_uri": "https://localhost:8080/",
          "height": 701
        },
        "id": "UKnDJqej9CIP",
        "outputId": "13e749d3-466e-41ed-91de-f383e17781d1"
      },
      "outputs": [
        {
          "data": {
            "text/html": [
              "<div>\n",
              "<style scoped>\n",
              "    .dataframe tbody tr th:only-of-type {\n",
              "        vertical-align: middle;\n",
              "    }\n",
              "\n",
              "    .dataframe tbody tr th {\n",
              "        vertical-align: top;\n",
              "    }\n",
              "\n",
              "    .dataframe thead th {\n",
              "        text-align: right;\n",
              "    }\n",
              "</style>\n",
              "<table border=\"1\" class=\"dataframe\">\n",
              "  <thead>\n",
              "    <tr style=\"text-align: right;\">\n",
              "      <th></th>\n",
              "      <th>Job Title</th>\n",
              "      <th>Company</th>\n",
              "      <th>Job Description</th>\n",
              "      <th>Job Type</th>\n",
              "      <th>Skills</th>\n",
              "      <th>Visualization Tools</th>\n",
              "    </tr>\n",
              "  </thead>\n",
              "  <tbody>\n",
              "    <tr>\n",
              "      <th>0</th>\n",
              "      <td>Data Engineer</td>\n",
              "      <td>PT I Like Gym Indonesia</td>\n",
              "      <td>Job Descriptions:Perform data exploration, dat...</td>\n",
              "      <td>Penuh waktu</td>\n",
              "      <td>[SQL, Python, Azure]</td>\n",
              "      <td>[Unknown]</td>\n",
              "    </tr>\n",
              "    <tr>\n",
              "      <th>1</th>\n",
              "      <td>Data Science Internship</td>\n",
              "      <td>PT. Cakra Radha Mustika</td>\n",
              "      <td>Requirements :Min. Bachelor’s Degree in Statis...</td>\n",
              "      <td>Kasual</td>\n",
              "      <td>[SQL, R, Excel]</td>\n",
              "      <td>[Unknown]</td>\n",
              "    </tr>\n",
              "    <tr>\n",
              "      <th>2</th>\n",
              "      <td>Internship Data Quality and Service Desk</td>\n",
              "      <td>PT Crif Lembaga Informasi Keuangan</td>\n",
              "      <td>Job roleThe Data Quality Intern will responsib...</td>\n",
              "      <td>Kontrak</td>\n",
              "      <td>[Unknown]</td>\n",
              "      <td>[Unknown]</td>\n",
              "    </tr>\n",
              "    <tr>\n",
              "      <th>3</th>\n",
              "      <td>Data Analyst</td>\n",
              "      <td>PT HEJAZ FINANCIAL SERVICES</td>\n",
              "      <td>The Data Analyst will work under the supervisi...</td>\n",
              "      <td>Penuh waktu</td>\n",
              "      <td>[SQL, Python, R, Excel]</td>\n",
              "      <td>[power bi]</td>\n",
              "    </tr>\n",
              "    <tr>\n",
              "      <th>4</th>\n",
              "      <td>Corporate Data Scientist Head</td>\n",
              "      <td>PT Wahana Ottomitra Multiartha (WOM Finance), Tbk</td>\n",
              "      <td>Responsibilities :Bertanggung jawab dalam peng...</td>\n",
              "      <td>Penuh waktu</td>\n",
              "      <td>[R, MySQL, Machine Learning, Hadoop, spark, Hi...</td>\n",
              "      <td>[Unknown]</td>\n",
              "    </tr>\n",
              "    <tr>\n",
              "      <th>...</th>\n",
              "      <td>...</td>\n",
              "      <td>...</td>\n",
              "      <td>...</td>\n",
              "      <td>...</td>\n",
              "      <td>...</td>\n",
              "      <td>...</td>\n",
              "    </tr>\n",
              "    <tr>\n",
              "      <th>187</th>\n",
              "      <td>Regional Data Analyst &amp; Monitoring</td>\n",
              "      <td>Erajaya Group</td>\n",
              "      <td>Job Descriptions :Coordinating target setting ...</td>\n",
              "      <td>Penuh waktu</td>\n",
              "      <td>[Unknown]</td>\n",
              "      <td>[Unknown]</td>\n",
              "    </tr>\n",
              "    <tr>\n",
              "      <th>188</th>\n",
              "      <td>Data Engineer Staff</td>\n",
              "      <td>PT NTT Data Indonesia</td>\n",
              "      <td>Job Responsibilities/Descriptions :Analyze and...</td>\n",
              "      <td>Kontrak</td>\n",
              "      <td>[SQL, Python, Database]</td>\n",
              "      <td>[Unknown]</td>\n",
              "    </tr>\n",
              "    <tr>\n",
              "      <th>189</th>\n",
              "      <td>Senior Data Engineer (Mandiri International Te...</td>\n",
              "      <td>Company Confidential</td>\n",
              "      <td>Job description &amp; requirements🙌🏻About UsPT. Ma...</td>\n",
              "      <td>Kontrak</td>\n",
              "      <td>[SQL, AWS, Big Data]</td>\n",
              "      <td>[Unknown]</td>\n",
              "    </tr>\n",
              "    <tr>\n",
              "      <th>190</th>\n",
              "      <td>Financial Products Analyst</td>\n",
              "      <td>WALLSTREETDOCS BANDUNG</td>\n",
              "      <td>We are seeking strong analytic person who is f...</td>\n",
              "      <td>Penuh waktu</td>\n",
              "      <td>[Database]</td>\n",
              "      <td>[Unknown]</td>\n",
              "    </tr>\n",
              "    <tr>\n",
              "      <th>191</th>\n",
              "      <td>BUSINESS INTELLIGENCE</td>\n",
              "      <td>Wilmar Group</td>\n",
              "      <td>Menerapkan system (SOP, ePMS\\n dan SAP) di sel...</td>\n",
              "      <td>Penuh waktu</td>\n",
              "      <td>[Unknown]</td>\n",
              "      <td>[Unknown]</td>\n",
              "    </tr>\n",
              "  </tbody>\n",
              "</table>\n",
              "<p>192 rows × 6 columns</p>\n",
              "</div>"
            ],
            "text/plain": [
              "                                             Job Title  \\\n",
              "0                                        Data Engineer   \n",
              "1                              Data Science Internship   \n",
              "2             Internship Data Quality and Service Desk   \n",
              "3                                         Data Analyst   \n",
              "4                        Corporate Data Scientist Head   \n",
              "..                                                 ...   \n",
              "187                 Regional Data Analyst & Monitoring   \n",
              "188                                Data Engineer Staff   \n",
              "189  Senior Data Engineer (Mandiri International Te...   \n",
              "190                         Financial Products Analyst   \n",
              "191                              BUSINESS INTELLIGENCE   \n",
              "\n",
              "                                               Company  \\\n",
              "0                              PT I Like Gym Indonesia   \n",
              "1                              PT. Cakra Radha Mustika   \n",
              "2                   PT Crif Lembaga Informasi Keuangan   \n",
              "3                          PT HEJAZ FINANCIAL SERVICES   \n",
              "4    PT Wahana Ottomitra Multiartha (WOM Finance), Tbk   \n",
              "..                                                 ...   \n",
              "187                                      Erajaya Group   \n",
              "188                              PT NTT Data Indonesia   \n",
              "189                               Company Confidential   \n",
              "190                             WALLSTREETDOCS BANDUNG   \n",
              "191                                       Wilmar Group   \n",
              "\n",
              "                                       Job Description     Job Type  \\\n",
              "0    Job Descriptions:Perform data exploration, dat...  Penuh waktu   \n",
              "1    Requirements :Min. Bachelor’s Degree in Statis...       Kasual   \n",
              "2    Job roleThe Data Quality Intern will responsib...      Kontrak   \n",
              "3    The Data Analyst will work under the supervisi...  Penuh waktu   \n",
              "4    Responsibilities :Bertanggung jawab dalam peng...  Penuh waktu   \n",
              "..                                                 ...          ...   \n",
              "187  Job Descriptions :Coordinating target setting ...  Penuh waktu   \n",
              "188  Job Responsibilities/Descriptions :Analyze and...      Kontrak   \n",
              "189  Job description & requirements🙌🏻About UsPT. Ma...      Kontrak   \n",
              "190  We are seeking strong analytic person who is f...  Penuh waktu   \n",
              "191  Menerapkan system (SOP, ePMS\\n dan SAP) di sel...  Penuh waktu   \n",
              "\n",
              "                                                Skills Visualization Tools  \n",
              "0                                 [SQL, Python, Azure]           [Unknown]  \n",
              "1                                      [SQL, R, Excel]           [Unknown]  \n",
              "2                                            [Unknown]           [Unknown]  \n",
              "3                              [SQL, Python, R, Excel]          [power bi]  \n",
              "4    [R, MySQL, Machine Learning, Hadoop, spark, Hi...           [Unknown]  \n",
              "..                                                 ...                 ...  \n",
              "187                                          [Unknown]           [Unknown]  \n",
              "188                            [SQL, Python, Database]           [Unknown]  \n",
              "189                               [SQL, AWS, Big Data]           [Unknown]  \n",
              "190                                         [Database]           [Unknown]  \n",
              "191                                          [Unknown]           [Unknown]  \n",
              "\n",
              "[192 rows x 6 columns]"
            ]
          },
          "execution_count": 95,
          "metadata": {},
          "output_type": "execute_result"
        }
      ],
      "source": [
        "list_viz_tools = ['tableau', 'power bi','QlikView','looker', 'kibana',\n",
        "                  'matplotlib', 'seaborn', 'plotly', 'bokeh']\n",
        "df = add_columns(df, list_viz_tools,column_name='Visualization Tools')\n",
        "df"
      ]
    },
    {
      "cell_type": "code",
      "execution_count": 96,
      "metadata": {
        "colab": {
          "base_uri": "https://localhost:8080/"
        },
        "id": "gxnJTlZnV8W4",
        "outputId": "c932060e-7540-4cef-8ef4-85847c848fd8"
      },
      "outputs": [
        {
          "data": {
            "text/plain": [
              "['Python', 'Machine Learning', 'tensorflow', 'Deep learning', 'scikit-learn']"
            ]
          },
          "execution_count": 96,
          "metadata": {},
          "output_type": "execute_result"
        }
      ],
      "source": [
        "df.loc[158,'Skills']"
      ]
    },
    {
      "cell_type": "code",
      "execution_count": 97,
      "metadata": {
        "colab": {
          "base_uri": "https://localhost:8080/"
        },
        "id": "jjRphmm5Vw3O",
        "outputId": "a8dfc993-20ac-4b87-b82c-932352311bfb"
      },
      "outputs": [
        {
          "name": "stdout",
          "output_type": "stream",
          "text": [
            "Jumlah kemunculan 'Python' dalam kolom 'Skills': 67\n"
          ]
        }
      ],
      "source": [
        "target_skill = 'Python'\n",
        "\n",
        "# Menghitung jumlah kemunculan 'Python' dalam kolom 'Skills'\n",
        "python_count = df['Skills'].apply(lambda x: x.count(target_skill)).sum()\n",
        "\n",
        "print(f\"Jumlah kemunculan 'Python' dalam kolom 'Skills': {python_count}\")"
      ]
    },
    {
      "cell_type": "code",
      "execution_count": 98,
      "metadata": {
        "colab": {
          "base_uri": "https://localhost:8080/"
        },
        "id": "qH-bdQ3UT3_E",
        "outputId": "0882ad91-43d5-4bb7-cf61-159abf73a58b"
      },
      "outputs": [
        {
          "name": "stdout",
          "output_type": "stream",
          "text": [
            "Local Timezone: WIB\n",
            "Local Offset: 7.00 hours\n",
            "Current Time: 2023-12-13 09:25:24.553319+07:00 (UTC+07:00)\n"
          ]
        }
      ],
      "source": [
        "# Mendapatkan offset waktu lokal\n",
        "local_offset = -time.timezone if (time.localtime().tm_isdst == 0) else -time.altzone\n",
        "local_timezone = timezone(timedelta(seconds=local_offset))\n",
        "\n",
        "# Mencetak informasi zona waktu\n",
        "print(f\"Local Timezone: {time.tzname[0]}\")\n",
        "print(f\"Local Offset: {local_offset / 3600:.2f} hours\")\n",
        "\n",
        "# Mencetak waktu sekarang\n",
        "current_time = datetime.now(local_timezone)\n",
        "print(f\"Current Time: {current_time} ({current_time.tzinfo})\")"
      ]
    },
    {
      "cell_type": "code",
      "execution_count": 99,
      "metadata": {
        "id": "i91e8iA0UMOG"
      },
      "outputs": [],
      "source": [
        "# Menentukan zona waktu Indonesia\n",
        "indonesia_timezone = pytz.timezone('Asia/Jakarta')\n",
        "current_time = datetime.now(indonesia_timezone).strftime('%Y-%m-%d_%H-%M-%S')"
      ]
    },
    {
      "cell_type": "code",
      "execution_count": 100,
      "metadata": {
        "id": "6uSaNcO9R2S-"
      },
      "outputs": [],
      "source": [
        "file_name = f\"job-{current_time}.csv\"\n",
        "df.to_csv(file_name, index=False)"
      ]
    },
    {
      "cell_type": "markdown",
      "metadata": {
        "id": "sLkXmajeb3zV"
      },
      "source": [
        "# EDA (Exploratory Data Analysis)"
      ]
    },
    {
      "cell_type": "code",
      "execution_count": 101,
      "metadata": {
        "colab": {
          "base_uri": "https://localhost:8080/"
        },
        "id": "RBqcvNxrb2fA",
        "outputId": "fb7a9c8c-bf1f-4227-ab3b-8ce43edea41b"
      },
      "outputs": [
        {
          "name": "stdout",
          "output_type": "stream",
          "text": [
            "['SQL', 'Python', 'Azure', 'SQL', 'R', 'Excel']\n",
            "SQL         79\n",
            "Python      67\n",
            "Database    57\n",
            "Excel       48\n",
            "R           37\n",
            "Name: count, dtype: int64\n"
          ]
        }
      ],
      "source": [
        "# Menggabungkan semua skills menjadi satu list\n",
        "all_skills = [skill for sublist in df['Skills'] for skill in sublist]\n",
        "\n",
        "# Menghitung frekuensi setiap skills\n",
        "skill_counts = pd.Series(all_skills).value_counts()\n",
        "\n",
        "print(all_skills[:6])\n",
        "print(skill_counts.head())"
      ]
    },
    {
      "cell_type": "code",
      "execution_count": 102,
      "metadata": {
        "colab": {
          "base_uri": "https://localhost:8080/",
          "height": 535
        },
        "id": "mbABbr9pa5NV",
        "outputId": "bd8fd428-f030-4fae-ed92-c21826539979"
      },
      "outputs": [
        {
          "data": {
            "image/png": "[encoded data removed]",
            "text/plain": [
              "<Figure size 640x480 with 1 Axes>"
            ]
          },
          "metadata": {},
          "output_type": "display_data"
        }
      ],
      "source": [
        "# Membuat plot bar chart\n",
        "top_10_skills= skill_counts.head(10)\n",
        "plt.bar(top_10_skills.index, top_10_skills.values,\n",
        "        color='skyblue',\n",
        "        edgecolor='black',\n",
        "        linewidth=2)\n",
        "\n",
        "plt.title('Top 10 Skills')\n",
        "# plt.xlabel('Skills')\n",
        "# plt.ylabel('Count')\n",
        "plt.xticks(rotation=45, ha='right')\n",
        "plt.show()"
      ]
    },
    {
      "cell_type": "code",
      "execution_count": 103,
      "metadata": {
        "colab": {
          "base_uri": "https://localhost:8080/",
          "height": 535
        },
        "id": "HTKVm7ClbvgD",
        "outputId": "05f68477-6ac7-4071-d706-01032fd1e8a6"
      },
      "outputs": [
        {
          "data": {
            "image/png": "[encoded data removed]",
            "text/plain": [
              "<Figure size 640x480 with 1 Axes>"
            ]
          },
          "metadata": {},
          "output_type": "display_data"
        }
      ],
      "source": [
        "# Menghapus nilai 'unknown' dari perhitungan\n",
        "skill_counts = skill_counts[skill_counts.index != 'Unknown']\n",
        "\n",
        "# Membuat plot bar chart (ambil 10 teratas)\n",
        "plt.bar(skill_counts.index[:10], skill_counts.values[:10], color='skyblue',\n",
        "        edgecolor='black',\n",
        "        linewidth=2)\n",
        "\n",
        "plt.title('Top 10 Skills')\n",
        "plt.ylabel('Count')\n",
        "plt.xticks(rotation=45, ha='right')\n",
        "plt.show()"
      ]
    },
    {
      "cell_type": "code",
      "execution_count": 104,
      "metadata": {
        "id": "WYPxahAAfowj"
      },
      "outputs": [],
      "source": [
        "# viz_tools = []\n",
        "\n",
        "# for sub_vt in df['Visualization Tools']:\n",
        "#     for vt in sub_vt:\n",
        "#         viz_tools.append(vt)"
      ]
    },
    {
      "cell_type": "code",
      "execution_count": 105,
      "metadata": {
        "colab": {
          "base_uri": "https://localhost:8080/"
        },
        "id": "t8ZpqVUaedgu",
        "outputId": "cb3fa85d-3e2b-487d-f60b-489e3e77c94b"
      },
      "outputs": [
        {
          "name": "stdout",
          "output_type": "stream",
          "text": [
            "['Unknown', 'Unknown', 'Unknown', 'power bi', 'Unknown', 'Unknown']\n",
            "tableau       37\n",
            "power bi      30\n",
            "looker        11\n",
            "matplotlib     3\n",
            "seaborn        2\n",
            "Name: count, dtype: int64\n"
          ]
        }
      ],
      "source": [
        "viz_tools = [vt for sub_viz_tools in df['Visualization Tools'] for vt in sub_viz_tools]\n",
        "\n",
        "# Menghitung frekuensi setiap viz_tools\n",
        "vt_counts = pd.Series(viz_tools).value_counts()\n",
        "vt_counts = vt_counts[vt_counts.index != 'Unknown']\n",
        "\n",
        "print(viz_tools[:6])\n",
        "print(vt_counts.head())"
      ]
    },
    {
      "cell_type": "code",
      "execution_count": 106,
      "metadata": {
        "colab": {
          "base_uri": "https://localhost:8080/",
          "height": 498
        },
        "id": "9pHW-I_ugrBR",
        "outputId": "94562001-9d6b-46a9-b4b4-7d6318547ac8"
      },
      "outputs": [
        {
          "data": {
            "image/png": "[encoded data removed]",
            "text/plain": [
              "<Figure size 640x480 with 1 Axes>"
            ]
          },
          "metadata": {},
          "output_type": "display_data"
        }
      ],
      "source": [
        "top_tools = vt_counts.head(5)\n",
        "\n",
        "sns.barplot(x=top_tools.index, y=top_tools.values, color='skyblue', edgecolor='black', linewidth=2)\n",
        "plt.title('Top 5 Visualization Tools')\n",
        "plt.ylabel('Count')\n",
        "plt.xticks(rotation=45, ha='right')\n",
        "plt.show()"
      ]
    }
  ],
  "metadata": {
    "colab": {
      "provenance": []
    },
    "kernelspec": {
      "display_name": "Python 3",
      "name": "python3"
    },
    "language_info": {
      "codemirror_mode": {
        "name": "ipython",
        "version": 3
      },
      "file_extension": ".py",
      "mimetype": "text/x-python",
      "name": "python",
      "nbconvert_exporter": "python",
      "pygments_lexer": "ipython3",
      "version": "3.11.1"
    }
  },
  "nbformat": 4,
  "nbformat_minor": 0
}
